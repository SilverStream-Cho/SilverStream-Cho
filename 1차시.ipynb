{
  "nbformat": 4,
  "nbformat_minor": 0,
  "metadata": {
    "colab": {
      "provenance": [],
      "authorship_tag": "ABX9TyPf8WZ0YUQ9rR0rCTB4TUgT",
      "include_colab_link": true
    },
    "kernelspec": {
      "name": "python3",
      "display_name": "Python 3"
    },
    "language_info": {
      "name": "python"
    }
  },
  "cells": [
    {
      "cell_type": "markdown",
      "metadata": {
        "id": "view-in-github",
        "colab_type": "text"
      },
      "source": [
        "<a href=\"https://colab.research.google.com/github/SilverStream-Cho/SilverStream-Cho/blob/main/1%EC%B0%A8%EC%8B%9C.ipynb\" target=\"_parent\"><img src=\"https://colab.research.google.com/assets/colab-badge.svg\" alt=\"Open In Colab\"/></a>"
      ]
    },
    {
      "cell_type": "code",
      "execution_count": null,
      "metadata": {
        "id": "vG9Zm4dt9ExO"
      },
      "outputs": [],
      "source": []
    },
    {
      "cell_type": "markdown",
      "source": [],
      "metadata": {
        "id": "xlMeii0n9bzi"
      }
    },
    {
      "cell_type": "code",
      "source": [
        "1+1"
      ],
      "metadata": {
        "colab": {
          "base_uri": "https://localhost:8080/"
        },
        "id": "6T5ihoch9euQ",
        "outputId": "bc8a24d6-b960-454a-db68-8d345676c8e3"
      },
      "execution_count": 1,
      "outputs": [
        {
          "output_type": "execute_result",
          "data": {
            "text/plain": [
              "2"
            ]
          },
          "metadata": {},
          "execution_count": 1
        }
      ]
    },
    {
      "cell_type": "markdown",
      "source": [
        "## 제목\n",
        "\n",
        "아무 설명이나 작성합니다.\n",
        "- 리스트 1\n",
        "- 리스트 2"
      ],
      "metadata": {
        "id": "053jfVqv9jex"
      }
    },
    {
      "cell_type": "code",
      "source": [
        "system(\"gdown --id 1tKdoX-XCDKQKwBkz5KMklr30n2vGDkaO?usp=sharing)\n",
        "data = read.csv(\"tmp.txt\")"
      ],
      "metadata": {
        "id": "6ergBKmP92SM"
      },
      "execution_count": null,
      "outputs": []
    }
  ]
}